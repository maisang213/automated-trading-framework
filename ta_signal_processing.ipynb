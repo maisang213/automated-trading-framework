{
 "cells": [
  {
   "cell_type": "code",
   "execution_count": 42,
   "metadata": {
    "collapsed": true
   },
   "outputs": [],
   "source": [
    "import numpy as np\n",
    "import pandas as pd\n",
    "import math as m\n",
    "import matplotlib.pyplot as plt\n",
    "%matplotlib inline\n",
    "\n",
    "import talib.abstract as ta\n",
    "\n",
    "import warnings\n",
    "warnings.filterwarnings('ignore')"
   ]
  },
  {
   "cell_type": "code",
   "execution_count": 245,
   "metadata": {
    "scrolled": true
   },
   "outputs": [
    {
     "data": {
      "text/html": [
       "<div>\n",
       "<style>\n",
       "    .dataframe thead tr:only-child th {\n",
       "        text-align: right;\n",
       "    }\n",
       "\n",
       "    .dataframe thead th {\n",
       "        text-align: left;\n",
       "    }\n",
       "\n",
       "    .dataframe tbody tr th {\n",
       "        vertical-align: top;\n",
       "    }\n",
       "</style>\n",
       "<table border=\"1\" class=\"dataframe\">\n",
       "  <thead>\n",
       "    <tr style=\"text-align: right;\">\n",
       "      <th></th>\n",
       "      <th>Open</th>\n",
       "      <th>High</th>\n",
       "      <th>Low</th>\n",
       "      <th>Close</th>\n",
       "      <th>Adj Close</th>\n",
       "      <th>Volume</th>\n",
       "    </tr>\n",
       "    <tr>\n",
       "      <th>Date</th>\n",
       "      <th></th>\n",
       "      <th></th>\n",
       "      <th></th>\n",
       "      <th></th>\n",
       "      <th></th>\n",
       "      <th></th>\n",
       "    </tr>\n",
       "  </thead>\n",
       "  <tbody>\n",
       "    <tr>\n",
       "      <th>2006-10-02</th>\n",
       "      <td>10.728572</td>\n",
       "      <td>10.838572</td>\n",
       "      <td>10.614285</td>\n",
       "      <td>10.694285</td>\n",
       "      <td>9.586717</td>\n",
       "      <td>178159800</td>\n",
       "    </tr>\n",
       "    <tr>\n",
       "      <th>2006-10-03</th>\n",
       "      <td>10.635715</td>\n",
       "      <td>10.707143</td>\n",
       "      <td>10.455714</td>\n",
       "      <td>10.582857</td>\n",
       "      <td>9.486828</td>\n",
       "      <td>197677200</td>\n",
       "    </tr>\n",
       "    <tr>\n",
       "      <th>2006-10-04</th>\n",
       "      <td>10.585714</td>\n",
       "      <td>10.780000</td>\n",
       "      <td>10.451428</td>\n",
       "      <td>10.768572</td>\n",
       "      <td>9.653308</td>\n",
       "      <td>207270700</td>\n",
       "    </tr>\n",
       "    <tr>\n",
       "      <th>2006-10-05</th>\n",
       "      <td>10.647142</td>\n",
       "      <td>10.880000</td>\n",
       "      <td>10.590000</td>\n",
       "      <td>10.690000</td>\n",
       "      <td>9.582876</td>\n",
       "      <td>170970800</td>\n",
       "    </tr>\n",
       "    <tr>\n",
       "      <th>2006-10-06</th>\n",
       "      <td>10.631429</td>\n",
       "      <td>10.720000</td>\n",
       "      <td>10.544286</td>\n",
       "      <td>10.602858</td>\n",
       "      <td>9.504756</td>\n",
       "      <td>116739700</td>\n",
       "    </tr>\n",
       "  </tbody>\n",
       "</table>\n",
       "</div>"
      ],
      "text/plain": [
       "                 Open       High        Low      Close  Adj Close     Volume\n",
       "Date                                                                        \n",
       "2006-10-02  10.728572  10.838572  10.614285  10.694285   9.586717  178159800\n",
       "2006-10-03  10.635715  10.707143  10.455714  10.582857   9.486828  197677200\n",
       "2006-10-04  10.585714  10.780000  10.451428  10.768572   9.653308  207270700\n",
       "2006-10-05  10.647142  10.880000  10.590000  10.690000   9.582876  170970800\n",
       "2006-10-06  10.631429  10.720000  10.544286  10.602858   9.504756  116739700"
      ]
     },
     "execution_count": 245,
     "metadata": {},
     "output_type": "execute_result"
    }
   ],
   "source": [
    "import pandas_datareader as pdr\n",
    "import datetime \n",
    "data = pdr.get_data_yahoo('AAPL', \n",
    "                          start=datetime.datetime(2006, 10, 1), \n",
    "                          end=datetime.datetime(2016, 1, 1))\n",
    "\n",
    "data.head()"
   ]
  },
  {
   "cell_type": "code",
   "execution_count": 86,
   "metadata": {
    "collapsed": true
   },
   "outputs": [],
   "source": [
    "ta_inputs = {\n",
    "    'open': stock.Open,\n",
    "    'high': stock.High,\n",
    "    'low': stock.Low,\n",
    "    'close': stock['Adj Close'], #adjusted close is used\n",
    "    'volume': stock.Volume\n",
    "}"
   ]
  },
  {
   "cell_type": "code",
   "execution_count": 246,
   "metadata": {
    "scrolled": true
   },
   "outputs": [],
   "source": [
    "def sma_signal(inputs, n):\n",
    "    \"\"\"SMA divided by adjusted close\"\"\"\n",
    "    signal = pd.Series(ta.SMA(inputs, n)/inputs['close'], name='SMA_signal')\n",
    "    return signal\n",
    "\n",
    "def ema_signal(inputs, smooth_param):\n",
    "    \"\"\"EMA divided by adjusted close\"\"\"\n",
    "    signal = pd.Series(ta.EMA(inputs, 2.0/smooth_param - 1), name='EMA_signal')\n",
    "    return signal\n",
    "\n",
    "def bb_signal(inputs, n, s_upper, s_lower):\n",
    "    \"\"\"signal 1 and 2: adjusted close respectively divided by upperband and lowerband;\n",
    "    signal 3: \n",
    "    _Buy (return 1) if previous close >= lowerband and close < upperband\n",
    "    _Sell (return -1) if previous close <= lowerband and close > upperband\n",
    "    _Hold (return 0) else\"\"\"\n",
    "    upperband, middleband, lowerband = ta.BBANDS(inputs, n, s_upper, s_lower)\n",
    "    signal_upper = pd.Series(inputs['close'] / upperband, name = 'BB_upper')\n",
    "    signal_lower = pd.Series(inputs['close'] / lowerband, name = 'BB_lower')\n",
    "    \n",
    "    today_close = list(inputs['close'])\n",
    "    prev_close = ([np.nan] + today_close)[:-1]\n",
    "    buy_cond = (prev_close >= lowerband) & (close < upperband)\n",
    "    sell_cond = (prev_close <= lowerband) & (close > upperband)\n",
    "    signal_trading = pd.Series(np.where(buy_cond, 1, np.where(sell_cond, -1, 0)), index = signal_upper.index,\\\n",
    "                               name = 'BB_trading')\n",
    "\n",
    "    return signal_upper, signal_lower, signal_trading"
   ]
  },
  {
   "cell_type": "code",
   "execution_count": 6,
   "metadata": {
    "collapsed": true
   },
   "outputs": [],
   "source": [
    "# data = pd.concat([SMA_vars, EMA_vars, BB_vars], axis=1)\n",
    "# pos_output_cond = stock['Adj Close'].pct_change() >= 0\n",
    "# data['output'] = np.where(pos_output_cond, 1, 0)\n",
    "# data.dropna(inplace=True)\n",
    "# X = data.loc[:, data.columns != 'output'].as_matrix()\n",
    "# y = data.loc[:, data.columns == 'output'].as_matrix()\n",
    "# total_size = X.shape[0]\n",
    "# train_size = int(total_size*0.5)\n",
    "# val_size = int(total_size*0.1)\n",
    "# X_train = X[:train_size,:]\n",
    "# X_val = X[train_size + 1:val_size, :]\n",
    "# X_test = X[train_size + val_size + 1:, :]\n",
    "# y_train = y[:train_size,:]\n",
    "# y_val = y[train_size + 1:val_size,:]\n",
    "# y_test = y[train_size + val_size + 1:, :]"
   ]
  }
 ],
 "metadata": {
  "kernelspec": {
   "display_name": "Python 3",
   "language": "python",
   "name": "python3"
  },
  "language_info": {
   "codemirror_mode": {
    "name": "ipython",
    "version": 3
   },
   "file_extension": ".py",
   "mimetype": "text/x-python",
   "name": "python",
   "nbconvert_exporter": "python",
   "pygments_lexer": "ipython3",
   "version": "3.6.3"
  }
 },
 "nbformat": 4,
 "nbformat_minor": 2
}
